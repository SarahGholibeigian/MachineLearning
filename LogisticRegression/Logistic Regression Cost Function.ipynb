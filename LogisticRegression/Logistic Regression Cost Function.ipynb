{
 "cells": [
  {
   "cell_type": "markdown",
   "id": "developed-southwest",
   "metadata": {},
   "source": [
    "# Logistic Regression Cost Function\n",
    "\n",
    "[Corrected probabilitiesc](https://www.analyticsvidhya.com/blog/2020/11/binary-cross-entropy-aka-log-loss-the-cost-function-used-in-logistic-regression/)\n",
    "\n",
    "- When we try to optimize values using gradient descent it will create complications to find global minima.\n",
    "\n",
    "- Another reason is in classification problems, we have target values like 0/1, So (Ŷ-Y)2 will always be in between 0-1 which can make it very difficult to keep track of the errors and it is difficult to store high precision floating numbers.\n",
    "\n",
    "[Why quadratic cost is not convex - Proof](https://math.stackexchange.com/questions/3287281/how-do-we-know-logistic-loss-is-a-non-convex-and-log-of-logistic-loss-in-convex)\n"
   ]
  },
  {
   "cell_type": "code",
   "execution_count": null,
   "id": "palestinian-tiffany",
   "metadata": {},
   "outputs": [],
   "source": []
  }
 ],
 "metadata": {
  "kernelspec": {
   "display_name": "Python 3",
   "language": "python",
   "name": "python3"
  },
  "language_info": {
   "codemirror_mode": {
    "name": "ipython",
    "version": 3
   },
   "file_extension": ".py",
   "mimetype": "text/x-python",
   "name": "python",
   "nbconvert_exporter": "python",
   "pygments_lexer": "ipython3",
   "version": "3.7.7"
  }
 },
 "nbformat": 4,
 "nbformat_minor": 5
}
