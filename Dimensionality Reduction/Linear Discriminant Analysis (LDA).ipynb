{
 "cells": [
  {
   "cell_type": "markdown",
   "id": "framed-snapshot",
   "metadata": {},
   "source": [
    "# Linear Discriminant Analysis (LDA)"
   ]
  },
  {
   "cell_type": "markdown",
   "id": "applied-singer",
   "metadata": {},
   "source": [
    "## What is LDA\n",
    "\n",
    "(Fishers) Linear Discriminant Analysis (LDA) searches for the projection of a dataset which maximizes the *between class scatter to within class scatter* ($\\frac{S_B}{S_W}$) ratio of this projected dataset. The goal is to project/transform a dataset $A$ using a transformation matrix $w$ such that the ratio of between class scatter to within class scatter of the transformed dataset $y=w^T*A$\n",
    " is maximized. Hence our goal is to find the transformation matrix  that accomplishes this. In Fisher's terms:\n",
    "*\"Find the linear combination $Z=a^T*X$ such that the between class variance is maximized relative to the within class variance.\"*(Hastie, Tibshirani and Friedman, 2008, p.114). Therewith, LDA is like PCA which we have introduced in the last chapter with the difference, that LDA aims to find the projection of maximum separability. But slowly. Consider the following illustration which shows a dataset consisting of three different classes. We now want to have the within and between class scatter of this dataset.\n",
    "\n",
    "![LDA](./images/LDA.png)"
   ]
  },
  {
   "cell_type": "markdown",
   "id": "broad-satellite",
   "metadata": {},
   "source": [
    "## Maths behind LDA\n",
    "\n",
    "As we can see in the illustration, we want to have a measure of the within and between class scatters. Therefore, we use the following two formulas for the between class scatter $S_B$ and the within class scatter $S_w$. Let's derive the meaning of them."
   ]
  },
  {
   "cell_type": "markdown",
   "id": "affiliated-snake",
   "metadata": {},
   "source": [
    "### 1. Scatter Within ($S_w$)\n",
    "$$\n",
    "S_w= \\sum_{classes~c}\\sum_{j\\in c}(x_j-\\mu_c)(x_j-\\mu_c)^T\n",
    "$$\n",
    "where\n",
    "- $classes~c$ are different classes \n",
    "- $x_j$ is the value vector per instance per class\n",
    "- $\\mu_c$ represents the mean-vector of class $c$ and is a vector which contains the values of each dimension for each class\n",
    "\n",
    "Mind that we calculated the scatter matrices and not the covariance matrices since then we must divide by n respectively n-1 but we didn't do that here. Nevertheless, the dimensionality of the scatter matrix is the same as for the covariance matrix. When a class has 2 dimensions, the scatter matrix is of shape (2x2) and consists of the elements:\n",
    "$$\n",
    "\\begin{bmatrix}\n",
    "scatter_{xx} & scatter_{xy} \\\\\n",
    "scatter_{yx} & scatter_{yy}\n",
    "\\end{bmatrix}\n",
    "$$\n",
    "As said, we calculate the scatter per class and then sum up all the per_class scatter matrices to receive a measure for the scatter within ($S_w$)\n",
    "\n",
    "Let's derive this with Python code:"
   ]
  },
  {
   "cell_type": "code",
   "execution_count": 1,
   "id": "reserved-german",
   "metadata": {},
   "outputs": [
    {
     "name": "stdout",
     "output_type": "stream",
     "text": [
      "[[ 1.07646534 -0.05208045]\n",
      " [-0.05208045  0.45007299]]\n"
     ]
    },
    {
     "data": {
      "image/png": "[encoded data removed]",
      "text/plain": [
       "<Figure size 720x720 with 1 Axes>"
      ]
     },
     "metadata": {},
     "output_type": "display_data"
    }
   ],
   "source": [
    "import numpy as np\n",
    "import matplotlib.pyplot as plt\n",
    "from matplotlib import style\n",
    "style.use('fivethirtyeight')\n",
    "np.random.seed(seed=42)\n",
    "\n",
    "# Create data\n",
    "rectangles = np.array([[1,1.5,1.7,1.45,1.1,1.6,1.8],[1.8,1.55,1.45,1.6,1.65,1.7,1.75]])\n",
    "triangles = np.array([[0.1,0.5,0.25,0.4,0.3,0.6,0.35,0.15,0.4,0.5,0.48],[1.1,1.5,1.3,1.2,1.15,1.0,1.4,1.2,1.3,1.5,1.0]])\n",
    "circles = np.array([[1.5,1.55,1.52,1.4,1.3,1.6,1.35,1.45,1.4,1.5,1.48,1.51,1.52,1.49,1.41,1.39,1.6,1.35,1.55,1.47,1.57,1.48,\n",
    "                    1.55,1.555,1.525,1.45,1.35,1.65,1.355,1.455,1.45,1.55,1.485,1.515,1.525,1.495,1.415,1.395,1.65,1.355,1.555,1.475,1.575,1.485]\n",
    "                    ,[1.3,1.35,1.33,1.32,1.315,1.30,1.34,1.32,1.33,1.35,1.30,1.31,1.35,1.33,1.32,1.315,1.38,1.34,1.28,1.23,1.25,1.29,\n",
    "                     1.35,1.355,1.335,1.325,1.3155,1.305,1.345,1.325,1.335,1.355,1.305,1.315,1.355,1.335,1.325,1.3155,1.385,1.345,1.285,1.235,1.255,1.295]])\n",
    "\n",
    "#Plot the data\n",
    "fig = plt.figure(figsize=(10,10))\n",
    "ax0 = fig.add_subplot(111)\n",
    "\n",
    "ax0.scatter(rectangles[0],rectangles[1],marker='s',c='grey',edgecolor='black')\n",
    "ax0.scatter(triangles[0],triangles[1],marker='^',c='yellow',edgecolor='black')\n",
    "ax0.scatter(circles[0],circles[1],marker='o',c='blue',edgecolor='black')\n",
    "\n",
    "\n",
    "\n",
    "\n",
    "# Calculate the mean vectors per class\n",
    "mean_rectangles = np.mean(rectangles,axis=1).reshape(2,1) # Creates a 2x1 vector consisting of the means of the dimensions \n",
    "mean_triangles = np.mean(triangles,axis=1).reshape(2,1)\n",
    "mean_circles = np.mean(circles,axis=1).reshape(2,1)\n",
    "\n",
    "# Calculate the scatter matrices for the SW (Scatter within) and sum the elements up\n",
    "\n",
    "scatter_rectangles = np.dot((rectangles-mean_rectangles),(rectangles-mean_rectangles).T)\n",
    "\n",
    "\n",
    "# Mind that we do not calculate the covariance matrix here because then we have to divide by n or n-1 as shown below\n",
    "#print((1/7)*np.dot((rectangles-mean_rectangles),(rectangles-mean_rectangles).T))\n",
    "#print(np.var(rectangles[0],ddof=0))\n",
    "\n",
    "scatter_triangles = np.dot((triangles-mean_triangles),(triangles-mean_triangles).T)\n",
    "scatter_circles = np.dot((circles-mean_circles),(circles-mean_circles).T)\n",
    "\n",
    "# Calculate the SW by adding the scatters within classes \n",
    "SW = scatter_triangles+scatter_circles+scatter_rectangles\n",
    "print(SW)\n",
    "\n",
    "\n",
    "plt.show()"
   ]
  },
  {
   "cell_type": "markdown",
   "id": "temporal-viking",
   "metadata": {},
   "source": [
    "## Scatter Between ($S_B$)\n",
    "\n",
    "$$\n",
    "S_B= \\sum_{classes~c}N_c(\\mu_c-\\mu)(\\mu_c-\\mu)^T\n",
    "$$\n",
    "\n",
    "With this second formula figuratively speaking, we measure the scatter of the total dataset, that is the scatter between the classes and therewith how \"far away\" the single class-clusters are. Here $classes~c$ are the different classes of our dataset (rectangles, triangles, circles). $\\mu_c$ is the mean per class. $\\mu$ is the mean of the total dataset and contains one value per dimension with the difference that we now consider all datapoints in the dataset and not only the datapoints belonging to one class $c$. The derivation of the $S_B$ is not that obvious and the details can be find [here](https://www.python-course.eu/linear_discriminant_analysis.php)."
   ]
  },
  {
   "cell_type": "markdown",
   "id": "viral-conditions",
   "metadata": {},
   "source": [
    "We can summariz the process of obtaining $w$ which is used to transform our original dataset, in six steps:\n",
    "\n",
    "1. Standardize the dataset (zero mean, standard deviation of 1)\n",
    "2. Compute the total mean vector $\\mu$ as well as the mean vectors per class $\\mu_c$ \n",
    "3. Compute the scatter withing and scatter between matrices $S_B$ and $S_W$ \n",
    "4. Compute the eigenvalues and eigenvectors of $S_W^{-1}S_B$ to find the $w$ which maximizes $\\frac{w^TS_Bw}{w^TS_Ww}$ \n",
    "5. Select the Eigenvectors of the corresponding $k$ largest Eigenvalues to create a $d\\times k$ dimensional transformation matrix $w$ where the Eigenvectors are the columns of this matrix\n",
    "6. Use $w$ to transform the original $n\\times d$ dimensional dataset $x$ into a lower, $n\\times k$ dimensional dataset $y$"
   ]
  },
  {
   "cell_type": "markdown",
   "id": "valued-indication",
   "metadata": {},
   "source": [
    "## LDA with sklearn\n",
    "\n",
    "The Linear Discriminant Analysis is available in the scikit-learn Python machine learning library via the [LinearDiscriminantAnalysis class](https://scikit-learn.org/stable/modules/generated/sklearn.discriminant_analysis.LinearDiscriminantAnalysis.html).\n",
    "\n",
    "The method can be used directly without configuration, although the implementation does offer arguments for customization, such as the choice of solver and the use of a penalty.\n",
    "\n",
    "```python\n",
    "...\n",
    "# create the lda model\n",
    "model = LinearDiscriminantAnalysis()\n",
    "```\n",
    "\n",
    "We can demonstrate the Linear Discriminant Analysis method with a worked example.\n",
    "\n",
    "First, let’s define a synthetic classification dataset.\n",
    "\n",
    "We will use the [`make_classification()` function](https://scikit-learn.org/stable/modules/generated/sklearn.datasets.make_classification.html) to create a dataset with 1,000 examples, each with 10 input variables.\n",
    "\n",
    "The example creates and summarizes the dataset."
   ]
  },
  {
   "cell_type": "code",
   "execution_count": 4,
   "id": "identified-degree",
   "metadata": {},
   "outputs": [
    {
     "name": "stdout",
     "output_type": "stream",
     "text": [
      "(1000, 10) (1000,)\n"
     ]
    }
   ],
   "source": [
    "# test classification dataset\n",
    "from sklearn.datasets import make_classification\n",
    "# define dataset\n",
    "X, y = make_classification(n_samples=1000, n_features=10, n_informative=10, n_redundant=0, random_state=1)\n",
    "# summarize the dataset\n",
    "print(X.shape, y.shape)"
   ]
  },
  {
   "cell_type": "markdown",
   "id": "resistant-edgar",
   "metadata": {},
   "source": [
    "Running the example creates the dataset and confirms the number of rows and columns of the dataset.\n",
    "\n",
    "We can fit and evaluate a Linear Discriminant Analysis model using [repeated stratified k-fold cross-validation](https://machinelearningmastery.com/k-fold-cross-validation/) via the [RepeatedStratifiedKFold class](https://scikit-learn.org/stable/modules/generated/sklearn.model_selection.RepeatedStratifiedKFold.html). We will use 10 folds and three repeats in the test harness.\n",
    "\n",
    "The complete example of evaluating the Linear Discriminant Analysis model for the synthetic binary classification task is listed below."
   ]
  },
  {
   "cell_type": "code",
   "execution_count": 5,
   "id": "widespread-involvement",
   "metadata": {},
   "outputs": [
    {
     "name": "stdout",
     "output_type": "stream",
     "text": [
      "Mean Accuracy: 0.893 (0.033)\n"
     ]
    }
   ],
   "source": [
    "# evaluate a lda model on the dataset\n",
    "from numpy import mean\n",
    "from numpy import std\n",
    "from sklearn.datasets import make_classification\n",
    "from sklearn.model_selection import cross_val_score\n",
    "from sklearn.model_selection import RepeatedStratifiedKFold\n",
    "from sklearn.discriminant_analysis import LinearDiscriminantAnalysis\n",
    "# define dataset\n",
    "X, y = make_classification(n_samples=1000, n_features=10, n_informative=10, n_redundant=0, random_state=1)\n",
    "# define model\n",
    "model = LinearDiscriminantAnalysis()\n",
    "# define model evaluation method\n",
    "cv = RepeatedStratifiedKFold(n_splits=10, n_repeats=3, random_state=1)\n",
    "# evaluate model\n",
    "scores = cross_val_score(model, X, y, scoring='accuracy', cv=cv, n_jobs=-1)\n",
    "# summarize result\n",
    "print('Mean Accuracy: %.3f (%.3f)' % (mean(scores), std(scores)))"
   ]
  },
  {
   "cell_type": "markdown",
   "id": "automatic-geography",
   "metadata": {},
   "source": [
    "Running the example evaluates the Linear Discriminant Analysis algorithm on the synthetic dataset and reports the average accuracy across the three repeats of 10-fold cross-validation.\n",
    "\n",
    "Your specific results may vary given the stochastic nature of the learning algorithm. Consider running the example a few times.\n",
    "\n",
    "In this case, we can see that the model achieved a mean accuracy of about 89.3 percent.\n",
    "\n",
    "We may decide to use the Linear Discriminant Analysis as our final model and make predictions on new data.\n",
    "\n",
    "This can be achieved by fitting the model on all available data and calling the `predict()` function passing in a new row of data.\n",
    "\n",
    "We can demonstrate this with a complete example listed below."
   ]
  },
  {
   "cell_type": "code",
   "execution_count": 6,
   "id": "inside-cattle",
   "metadata": {},
   "outputs": [
    {
     "name": "stdout",
     "output_type": "stream",
     "text": [
      "Predicted Class: 1\n"
     ]
    }
   ],
   "source": [
    "# make a prediction with a lda model on the dataset\n",
    "from sklearn.datasets import make_classification\n",
    "from sklearn.discriminant_analysis import LinearDiscriminantAnalysis\n",
    "# define dataset\n",
    "X, y = make_classification(n_samples=1000, n_features=10, n_informative=10, n_redundant=0, random_state=1)\n",
    "# define model\n",
    "model = LinearDiscriminantAnalysis()\n",
    "# fit model\n",
    "model.fit(X, y)\n",
    "# define new data\n",
    "row = [0.12777556,-3.64400522,-2.23268854,-1.82114386,1.75466361,0.1243966,1.03397657,2.35822076,1.01001752,0.56768485]\n",
    "# make a prediction\n",
    "yhat = model.predict([row])\n",
    "# summarize prediction\n",
    "print('Predicted Class: %d' % yhat)"
   ]
  },
  {
   "cell_type": "markdown",
   "id": "threatened-damage",
   "metadata": {},
   "source": [
    "Running the example fits the model and makes a class label prediction for a new row of data.\n",
    "\n",
    "Next, we can look at configuring the model hyperparameters."
   ]
  },
  {
   "cell_type": "markdown",
   "id": "verbal-treasury",
   "metadata": {},
   "source": [
    "## Tune LDA Hyperparameters\n",
    "\n",
    "The hyperparameters for the Linear Discriminant Analysis method must be configured for your specific dataset.\n",
    "\n",
    "An important hyperparameter is the solver, which defaults to ‘svd‘ but can also be set to other values for solvers that support the shrinkage capability.\n",
    "\n",
    "The example below demonstrates this using the [GridSearchCV class](https://scikit-learn.org/stable/modules/generated/sklearn.model_selection.GridSearchCV.html) with a grid of different solver values."
   ]
  },
  {
   "cell_type": "code",
   "execution_count": 7,
   "id": "useful-farming",
   "metadata": {},
   "outputs": [
    {
     "name": "stdout",
     "output_type": "stream",
     "text": [
      "Mean Accuracy: 0.893\n",
      "Config: {'solver': 'svd'}\n"
     ]
    }
   ],
   "source": [
    "# grid search solver for lda\n",
    "from sklearn.datasets import make_classification\n",
    "from sklearn.model_selection import GridSearchCV\n",
    "from sklearn.model_selection import RepeatedStratifiedKFold\n",
    "from sklearn.discriminant_analysis import LinearDiscriminantAnalysis\n",
    "# define dataset\n",
    "X, y = make_classification(n_samples=1000, n_features=10, n_informative=10, n_redundant=0, random_state=1)\n",
    "# define model\n",
    "model = LinearDiscriminantAnalysis()\n",
    "# define model evaluation method\n",
    "cv = RepeatedStratifiedKFold(n_splits=10, n_repeats=3, random_state=1)\n",
    "# define grid\n",
    "grid = dict()\n",
    "grid['solver'] = ['svd', 'lsqr', 'eigen']\n",
    "# define search\n",
    "search = GridSearchCV(model, grid, scoring='accuracy', cv=cv, n_jobs=-1)\n",
    "# perform the search\n",
    "results = search.fit(X, y)\n",
    "# summarize\n",
    "print('Mean Accuracy: %.3f' % results.best_score_)\n",
    "print('Config: %s' % results.best_params_)"
   ]
  },
  {
   "cell_type": "markdown",
   "id": "secure-desperate",
   "metadata": {},
   "source": [
    "Running the example will evaluate each combination of configurations using repeated cross-validation.\n",
    "\n",
    "Your specific results may vary given the stochastic nature of the learning algorithm. Try running the example a few times.\n",
    "\n",
    "In this case, we can see that the default SVD solver performs the best compared to the other built-in solvers.\n",
    "\n",
    "Next, we can explore whether using shrinkage with the model improves performance.\n",
    "\n",
    "Shrinkage adds a penalty to the model that acts as a type of regularizer, reducing the complexity of the model.\n",
    "\n",
    "> Regularization reduces the variance associated with the sample based estimate at the expense of potentially increased bias. This bias variance trade-off is generally regulated by one or more (degree-of-belief) parameters that control the strength of the biasing towards the “plausible” set of (population) parameter values.\n",
    "\n",
    "This can be set via the “shrinkage” argument and can be set to a value between 0 and 1. We will test values on a grid with a spacing of 0.01.\n",
    "\n",
    "In order to use the penalty, a solver must be chosen that supports this capability, such as ‘eigen’ or ‘lsqr‘. We will use the latter in this case.\n",
    "\n",
    "The complete example of tuning the shrinkage hyperparameter is listed below."
   ]
  },
  {
   "cell_type": "code",
   "execution_count": 8,
   "id": "pregnant-external",
   "metadata": {},
   "outputs": [
    {
     "name": "stdout",
     "output_type": "stream",
     "text": [
      "Mean Accuracy: 0.894\n",
      "Config: {'shrinkage': 0.02}\n"
     ]
    }
   ],
   "source": [
    "# grid search shrinkage for lda\n",
    "from numpy import arange\n",
    "from sklearn.datasets import make_classification\n",
    "from sklearn.model_selection import GridSearchCV\n",
    "from sklearn.model_selection import RepeatedStratifiedKFold\n",
    "from sklearn.discriminant_analysis import LinearDiscriminantAnalysis\n",
    "# define dataset\n",
    "X, y = make_classification(n_samples=1000, n_features=10, n_informative=10, n_redundant=0, random_state=1)\n",
    "# define model\n",
    "model = LinearDiscriminantAnalysis(solver='lsqr')\n",
    "# define model evaluation method\n",
    "cv = RepeatedStratifiedKFold(n_splits=10, n_repeats=3, random_state=1)\n",
    "# define grid\n",
    "grid = dict()\n",
    "grid['shrinkage'] = arange(0, 1, 0.01)\n",
    "# define search\n",
    "search = GridSearchCV(model, grid, scoring='accuracy', cv=cv, n_jobs=-1)\n",
    "# perform the search\n",
    "results = search.fit(X, y)\n",
    "# summarize\n",
    "print('Mean Accuracy: %.3f' % results.best_score_)\n",
    "print('Config: %s' % results.best_params_)"
   ]
  },
  {
   "cell_type": "markdown",
   "id": "scientific-translation",
   "metadata": {},
   "source": [
    "Running the example will evaluate each combination of configurations using repeated cross-validation.\n",
    "\n",
    "Your specific results may vary given the stochastic nature of the learning algorithm. Try running the example a few times.\n",
    "\n",
    "In this case, we can see that using shrinkage offers a slight lift in performance from about 89.3 percent to about 89.4 percent, with a value of 0.02."
   ]
  },
  {
   "cell_type": "code",
   "execution_count": null,
   "id": "physical-investigation",
   "metadata": {},
   "outputs": [],
   "source": []
  }
 ],
 "metadata": {
  "kernelspec": {
   "display_name": "Python 3",
   "language": "python",
   "name": "python3"
  },
  "language_info": {
   "codemirror_mode": {
    "name": "ipython",
    "version": 3
   },
   "file_extension": ".py",
   "mimetype": "text/x-python",
   "name": "python",
   "nbconvert_exporter": "python",
   "pygments_lexer": "ipython3",
   "version": "3.7.7"
  }
 },
 "nbformat": 4,
 "nbformat_minor": 5
}
