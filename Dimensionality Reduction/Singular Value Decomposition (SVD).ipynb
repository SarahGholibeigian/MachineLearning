{
 "cells": [
  {
   "cell_type": "markdown",
   "id": "clear-copying",
   "metadata": {},
   "source": [
    "# Singular Value Decomposition (SVD)"
   ]
  },
  {
   "cell_type": "markdown",
   "id": "equal-fitting",
   "metadata": {},
   "source": [
    "links:\n",
    "\n",
    "https://stats.stackexchange.com/questions/107533/how-to-use-svd-for-dimensionality-reduction-to-reduce-the-number-of-columns-fea\n",
    "\n",
    "https://www.analyticsvidhya.com/blog/2019/08/5-applications-singular-value-decomposition-svd-data-science/\n",
    "\n",
    "https://sthalles.github.io/svd-for-regression/\n",
    "\n",
    "https://towardsdatascience.com/svd-8c2f72e264f\n",
    "\n",
    "https://towardsdatascience.com/pca-and-svd-explained-with-numpy-5d13b0d2a4d8\n",
    "\n",
    "https://heartbeat.fritz.ai/recommender-systems-with-python-part-iii-collaborative-filtering-singular-value-decomposition-5b5dcb3f242b\n",
    "\n",
    "https://stats.stackexchange.com/questions/342046/explaining-dimensionality-reduction-using-svd-without-reference-to-pca\n",
    "\n",
    "https://www.coryjmaklin.com/least-squares-linear-regression-in-python\n",
    "\n",
    "https://bigdata-madesimple.com/decoding-dimensionality-reduction-pca-and-svd/\n",
    "\n",
    "https://en.wikipedia.org/wiki/Singular_value_decomposition\n",
    "\n",
    "https://blogs.oracle.com/r/using-svd-for-dimensionality-reduction#:~:text=SVD%2C%20or%20Singular%20Value%20Decomposition,columns%2C%20of%20a%20data%20set.&text=While%20SVD%20can%20be%20used,image%20compression%2C%20and%20other%20areas.\n",
    "\n",
    "http://cs-people.bu.edu/evimaria/cs565-14/dimensionality-reduction.pdf\n",
    "\n",
    "\n"
   ]
  },
  {
   "cell_type": "markdown",
   "id": "intelligent-likelihood",
   "metadata": {},
   "source": [
    "https://stackoverflow.com/questions/31523575/get-u-sigma-v-matrix-from-truncated-svd-in-scikit-learn/31528944\n",
    "\n",
    "``` python\n",
    "svd = TruncatedSVD(k)\n",
    "X_transformed = svd.fit_transform(X)\n",
    "\n",
    "U = X_transformed / svd.singular_values_\n",
    "Sigma_matrix = np.diag(svd.singular_values_)\n",
    "VT = svd.components_\n",
    "```"
   ]
  },
  {
   "cell_type": "code",
   "execution_count": 2,
   "id": "federal-uganda",
   "metadata": {},
   "outputs": [],
   "source": [
    "import numpy as np\n",
    "from sklearn.decomposition import TruncatedSVD"
   ]
  },
  {
   "cell_type": "code",
   "execution_count": 117,
   "id": "composite-windows",
   "metadata": {},
   "outputs": [
    {
     "data": {
      "text/plain": [
       "4"
      ]
     },
     "execution_count": 117,
     "metadata": {},
     "output_type": "execute_result"
    }
   ],
   "source": [
    "A = np.array([[1,2,3,4,5,6],\n",
    "             [2,4,6,1,3,1],\n",
    "             [3,6,9,2,5,1],\n",
    "             [4,8,12,5,5,5],\n",
    "             [5,10,15,1,10,1],\n",
    "             [6,12,18,6,0,5],\n",
    "             [7,14,21,5,5,3]])\n",
    "A\n",
    "np.linalg.matrix_rank(A)"
   ]
  },
  {
   "cell_type": "code",
   "execution_count": 168,
   "id": "headed-membership",
   "metadata": {},
   "outputs": [],
   "source": [
    "svd_trunc = TruncatedSVD(n_components=3, random_state=42)"
   ]
  },
  {
   "cell_type": "code",
   "execution_count": 184,
   "id": "proud-croatia",
   "metadata": {},
   "outputs": [
    {
     "data": {
      "text/plain": [
       "array([[ 6.4766594 , -2.65260072,  6.4812963 ],\n",
       "       [ 8.0921228 , -1.15967761, -0.38588445],\n",
       "       [12.27702519, -2.14356939, -0.64027441],\n",
       "       [17.01673911, -0.43111826,  3.03397689],\n",
       "       [20.30057348, -5.74772029, -2.5866759 ],\n",
       "       [23.00072996,  5.94287867,  0.73508522],\n",
       "       [27.19823545,  1.47835318, -1.72874247]])"
      ]
     },
     "execution_count": 184,
     "metadata": {},
     "output_type": "execute_result"
    }
   ],
   "source": [
    "A_reduced = svd_trunc.fit_transform(A)\n",
    "A_reduced"
   ]
  },
  {
   "cell_type": "code",
   "execution_count": 185,
   "id": "seven-contest",
   "metadata": {},
   "outputs": [
    {
     "data": {
      "text/plain": [
       "array([[ 0.99749574,  1.99499148,  2.99248722,  4.07707962,  5.01163136,\n",
       "         5.94319893],\n",
       "       [ 1.99601412,  3.99202825,  5.98804237,  1.1226829 ,  3.01851293,\n",
       "         0.90959323],\n",
       "       [ 3.01342333,  6.02684665,  9.04026998,  1.58683806,  4.9376536 ,\n",
       "         1.30446488],\n",
       "       [ 4.00514976,  8.01029951, 12.01544927,  4.84149355,  4.97608128,\n",
       "         5.11680565],\n",
       "       [ 4.98967812,  9.97935624, 14.96903435,  1.31770137, 10.04794134,\n",
       "         0.76588137],\n",
       "       [ 5.99149699, 11.98299398, 17.97449097,  6.26171757,  0.03949335,\n",
       "         4.80713662],\n",
       "       [ 7.00739601, 14.01479202, 21.02218803,  4.77235522,  4.96564826,\n",
       "         3.16775466]])"
      ]
     },
     "execution_count": 185,
     "metadata": {},
     "output_type": "execute_result"
    }
   ],
   "source": [
    "A_original = svd_trunc.inverse_transform(A_reduced)\n",
    "A_original"
   ]
  },
  {
   "cell_type": "code",
   "execution_count": 137,
   "id": "pointed-dating",
   "metadata": {},
   "outputs": [],
   "source": [
    "U, s, Vh = np.linalg.svd(A)"
   ]
  },
  {
   "cell_type": "code",
   "execution_count": 171,
   "id": "restricted-daniel",
   "metadata": {},
   "outputs": [
    {
     "data": {
      "text/plain": [
       "((7, 7), (6,), (6, 6))"
      ]
     },
     "execution_count": 171,
     "metadata": {},
     "output_type": "execute_result"
    }
   ],
   "source": [
    "U.shape, s.shape, Vh.shape"
   ]
  },
  {
   "cell_type": "code",
   "execution_count": 175,
   "id": "respiratory-reality",
   "metadata": {},
   "outputs": [],
   "source": [
    "r = 3\n",
    "B1 = np.dot(np.dot(U[:,:r], np.diag(s)[:r,:r]), Vh[:r,:])\n",
    "B2 = np.dot(U[:,:r], np.diag(s)[:r,:r])"
   ]
  },
  {
   "cell_type": "code",
   "execution_count": 189,
   "id": "arctic-saturn",
   "metadata": {},
   "outputs": [
    {
     "data": {
      "text/plain": [
       "(array([[ -6.4766594 ,   2.65260072,   6.4812963 ],\n",
       "        [ -8.0921228 ,   1.15967761,  -0.38588445],\n",
       "        [-12.27702519,   2.14356939,  -0.64027441],\n",
       "        [-17.01673911,   0.43111826,   3.03397689],\n",
       "        [-20.30057348,   5.74772029,  -2.5866759 ],\n",
       "        [-23.00072996,  -5.94287867,   0.73508522],\n",
       "        [-27.19823545,  -1.47835318,  -1.72874247]]),\n",
       " 3)"
      ]
     },
     "execution_count": 189,
     "metadata": {},
     "output_type": "execute_result"
    }
   ],
   "source": [
    "B2, np.linalg.matrix_rank(B2)"
   ]
  },
  {
   "cell_type": "code",
   "execution_count": null,
   "id": "helpful-lemon",
   "metadata": {},
   "outputs": [],
   "source": []
  },
  {
   "cell_type": "code",
   "execution_count": null,
   "id": "wooden-thing",
   "metadata": {},
   "outputs": [],
   "source": []
  }
 ],
 "metadata": {
  "kernelspec": {
   "display_name": "Python 3",
   "language": "python",
   "name": "python3"
  },
  "language_info": {
   "codemirror_mode": {
    "name": "ipython",
    "version": 3
   },
   "file_extension": ".py",
   "mimetype": "text/x-python",
   "name": "python",
   "nbconvert_exporter": "python",
   "pygments_lexer": "ipython3",
   "version": "3.7.7"
  }
 },
 "nbformat": 4,
 "nbformat_minor": 5
}
