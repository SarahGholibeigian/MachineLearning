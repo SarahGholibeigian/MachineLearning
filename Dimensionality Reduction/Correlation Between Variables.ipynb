{
 "cells": [
  {
   "cell_type": "markdown",
   "id": "according-framework",
   "metadata": {},
   "source": [
    "# Correlation Between Variables\n",
    "\n",
    "[Correlation Between Variables](https://machinelearningmastery.com/how-to-use-correlation-to-understand-the-relationship-between-variables/)"
   ]
  },
  {
   "cell_type": "code",
   "execution_count": null,
   "id": "russian-character",
   "metadata": {},
   "outputs": [],
   "source": []
  }
 ],
 "metadata": {
  "kernelspec": {
   "display_name": "Python 3",
   "language": "python",
   "name": "python3"
  },
  "language_info": {
   "codemirror_mode": {
    "name": "ipython",
    "version": 3
   },
   "file_extension": ".py",
   "mimetype": "text/x-python",
   "name": "python",
   "nbconvert_exporter": "python",
   "pygments_lexer": "ipython3",
   "version": "3.7.7"
  }
 },
 "nbformat": 4,
 "nbformat_minor": 5
}
