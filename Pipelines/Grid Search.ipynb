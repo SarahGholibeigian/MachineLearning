{
 "cells": [
  {
   "cell_type": "markdown",
   "id": "protective-globe",
   "metadata": {},
   "source": [
    "# Tweaking & Adjusting Your Model\n",
    "\n",
    "A big factor in whether a machine learning model will perform well is a lot of tweaking...\n",
    "![machine_learning_xkcd](./images/machine_learning_xkcd.png)\n",
    "You can think of hyperparameters as little dials to adjust to make it easier for the machine learning model to learn\n",
    "![dials](./images/dials.png)\n",
    "But how do we know what to adjust them to?!"
   ]
  },
  {
   "cell_type": "markdown",
   "id": "indoor-lawyer",
   "metadata": {},
   "source": [
    "# Grid Search: Find the best for us!\n",
    "[GridSearchCV](https://scikit-learn.org/stable/modules/generated/sklearn.model_selection.GridSearchCV.html)\n",
    "\n",
    "A way for us to search over multiple hyperparameters for the given model(s)"
   ]
  },
  {
   "cell_type": "markdown",
   "id": "hungarian-bankruptcy",
   "metadata": {},
   "source": [
    "# Basic Grid Search"
   ]
  },
  {
   "cell_type": "code",
   "execution_count": 1,
   "id": "future-sailing",
   "metadata": {},
   "outputs": [],
   "source": [
    "# Getting some data\n",
    "from sklearn import datasets\n",
    "from sklearn.model_selection import train_test_split\n",
    "\n",
    "iris = datasets.load_iris()\n",
    "X = iris.data\n",
    "y = iris.target\n",
    "\n",
    "# Split\n",
    "X_train, X_test, y_train, y_test = train_test_split(X, y, test_size=0.2,\n",
    "                                                   random_state=27)"
   ]
  },
  {
   "cell_type": "code",
   "execution_count": 2,
   "id": "unavailable-fluid",
   "metadata": {},
   "outputs": [
    {
     "data": {
      "text/plain": [
       "GridSearchCV(estimator=SVC(),\n",
       "             param_grid={'C': [1, 10, 50], 'kernel': ['linear', 'rbf']})"
      ]
     },
     "execution_count": 2,
     "metadata": {},
     "output_type": "execute_result"
    }
   ],
   "source": [
    "from sklearn.svm import SVC\n",
    "from sklearn.model_selection import GridSearchCV\n",
    "\n",
    "parameters = {\n",
    "    'kernel': ['linear', 'rbf'],\n",
    "    'C': [1, 10, 50]\n",
    "}\n",
    "\n",
    "clf_sv = SVC()\n",
    "clf = GridSearchCV(clf_sv, parameters)\n",
    "clf.fit(X_train, y_train)"
   ]
  },
  {
   "cell_type": "markdown",
   "id": "female-malpractice",
   "metadata": {},
   "source": [
    "# Bad Grid Search!\n",
    "\n",
    "Note we still have to be careful in performing a grid search!\n",
    "\n",
    "We can accidentally \"leak\" information by doing transformations with the **whole data set**, instead of just the **training set**!"
   ]
  },
  {
   "cell_type": "markdown",
   "id": "capable-terry",
   "metadata": {},
   "source": [
    "## Example of leaking information\n",
    "\n",
    "This will leak information when doing **cross-validation**:"
   ]
  },
  {
   "cell_type": "code",
   "execution_count": 3,
   "id": "national-species",
   "metadata": {},
   "outputs": [
    {
     "data": {
      "text/plain": [
       "GridSearchCV(estimator=SVC(),\n",
       "             param_grid={'C': [1, 10], 'kernel': ['linear', 'rbf']})"
      ]
     },
     "execution_count": 3,
     "metadata": {},
     "output_type": "execute_result"
    }
   ],
   "source": [
    "from sklearn.preprocessing import StandardScaler\n",
    "\n",
    "scaler = StandardScaler()\n",
    "# Scales over all of the X_train data! (validation set will be considered in scaling)\n",
    "scaled_data = scaler.fit_transform(X_train)\n",
    "\n",
    "parameters = {\n",
    "    'kernel': ['linear', 'rbf'],\n",
    "    'C': [1, 10]\n",
    "}\n",
    "\n",
    "clf_sv = SVC()\n",
    "clf = GridSearchCV(clf_sv, parameters)\n",
    "clf.fit(X_train, y_train)"
   ]
  },
  {
   "cell_type": "markdown",
   "id": "literary-victor",
   "metadata": {},
   "source": [
    "**Why leaking?**\n",
    "- When using cross-validation, the model has already seen the validation set from the *scaled_data* part."
   ]
  },
  {
   "cell_type": "markdown",
   "id": "literary-teddy",
   "metadata": {},
   "source": [
    "## 2.2 Example of with no leakage\n",
    "\n",
    "We can help prevent leaking by using **pipeline** to encapsulate the transformation with a *Transformer & Predictor* (to form a new *Estimator*)"
   ]
  },
  {
   "cell_type": "code",
   "execution_count": 6,
   "id": "competent-campus",
   "metadata": {},
   "outputs": [],
   "source": [
    "from sklearn.pipeline import Pipeline\n",
    "\n",
    "pipeline = Pipeline([\n",
    "    ('scaler', StandardScaler()),\n",
    "    ('clf', SVC())\n",
    "])\n",
    "\n",
    "parameters = {\n",
    "    'scaler__with_mean': [True, False],\n",
    "    'clf__kernel': ['linear', 'rbf'],\n",
    "    'clf__C': [1, 10]\n",
    "}\n",
    "\n",
    "cv = GridSearchCV(pipeline, param_grid=parameters)\n",
    "\n",
    "cv.fit(X_train, y_train)\n",
    "y_pred = cv.predict(X_test)"
   ]
  },
  {
   "cell_type": "code",
   "execution_count": 9,
   "id": "progressive-handy",
   "metadata": {},
   "outputs": [
    {
     "data": {
      "text/plain": [
       "dict_keys(['copy', 'with_mean', 'with_std'])"
      ]
     },
     "execution_count": 9,
     "metadata": {},
     "output_type": "execute_result"
    }
   ],
   "source": [
    "scaler.get_params().keys()"
   ]
  },
  {
   "cell_type": "code",
   "execution_count": 10,
   "id": "controlled-technical",
   "metadata": {},
   "outputs": [
    {
     "data": {
      "text/plain": [
       "dict_keys(['cv', 'error_score', 'estimator__C', 'estimator__break_ties', 'estimator__cache_size', 'estimator__class_weight', 'estimator__coef0', 'estimator__decision_function_shape', 'estimator__degree', 'estimator__gamma', 'estimator__kernel', 'estimator__max_iter', 'estimator__probability', 'estimator__random_state', 'estimator__shrinking', 'estimator__tol', 'estimator__verbose', 'estimator', 'n_jobs', 'param_grid', 'pre_dispatch', 'refit', 'return_train_score', 'scoring', 'verbose'])"
      ]
     },
     "execution_count": 10,
     "metadata": {},
     "output_type": "execute_result"
    }
   ],
   "source": [
    "clf.get_params().keys()"
   ]
  },
  {
   "cell_type": "code",
   "execution_count": null,
   "id": "natural-expense",
   "metadata": {},
   "outputs": [],
   "source": []
  }
 ],
 "metadata": {
  "kernelspec": {
   "display_name": "Python 3",
   "language": "python",
   "name": "python3"
  },
  "language_info": {
   "codemirror_mode": {
    "name": "ipython",
    "version": 3
   },
   "file_extension": ".py",
   "mimetype": "text/x-python",
   "name": "python",
   "nbconvert_exporter": "python",
   "pygments_lexer": "ipython3",
   "version": "3.7.7"
  }
 },
 "nbformat": 4,
 "nbformat_minor": 5
}
