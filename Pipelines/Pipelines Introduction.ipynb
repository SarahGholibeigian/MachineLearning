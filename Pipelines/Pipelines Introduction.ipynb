{
 "cells": [
  {
   "cell_type": "markdown",
   "id": "parallel-weather",
   "metadata": {},
   "source": [
    "# Pipelines: Automating the Automatic Learning\n",
    "\n",
    "**Pipelines** are a nice tool to use to help in the full data science process!\n",
    "\n",
    "Pipelines can keep our code neat and clean all the way from gathering & cleaning our data, to creating models & fine-tuning them!\n",
    "\n",
    "But like with all things, you need to know how to make a proper and useful pipeline:\n",
    "\n",
    "![data_pipeline_xkcd](./images/data_pipeline_xkcd.png)"
   ]
  },
  {
   "cell_type": "markdown",
   "id": "several-password",
   "metadata": {},
   "source": [
    "# Advantages\n",
    "\n",
    "## Reduces Complexity\n",
    "You can focus on parts of the pipeline at a time and debug or adjust parts as needed\n",
    "\n",
    "## Convenient\n",
    "You can summarize your fine-detail steps into the pipeline. That way you can focus on the big-picture aspects.\n",
    "\n",
    "## Flexible\n",
    "You can also use pipelines to be applied to different models and can perform optimization techniques like grid search and random search on hyperparameters!\n",
    "\n",
    "## Prevent Mistakes!\n",
    "We can focus on one section at a time.\n",
    "\n",
    "We also can ensure data leakage between our training and doesn't occur between our training dataset and validation/testing datasets!\n",
    "\n",
    "![pipe_leaking_cartoon](./images/pipe_leaking_cartoon.jpg)"
   ]
  },
  {
   "cell_type": "markdown",
   "id": "jewish-concept",
   "metadata": {},
   "source": [
    "# Example of Using a Pipeline\n",
    "We can imagine doing the full steps planned out for a dataset. We technically don't need to use the Pipeline class but it makes it much more manageable"
   ]
  },
  {
   "cell_type": "code",
   "execution_count": 9,
   "id": "molecular-petroleum",
   "metadata": {},
   "outputs": [],
   "source": [
    "from sklearn.impute import SimpleImputer\n",
    "from sklearn.preprocessing import StandardScaler\n",
    "from sklearn.decomposition import PCA\n",
    "from sklearn.ensemble import RandomForestClassifier"
   ]
  },
  {
   "cell_type": "code",
   "execution_count": 10,
   "id": "measured-mustang",
   "metadata": {},
   "outputs": [],
   "source": [
    "# Getting some data\n",
    "from sklearn import datasets\n",
    "from sklearn.model_selection import train_test_split\n",
    "\n",
    "iris = datasets.load_iris()\n",
    "X = iris.data\n",
    "y = iris.target\n",
    "\n",
    "# Split\n",
    "X_train, X_test, y_train, y_test = train_test_split(X, y, test_size=0.2,\n",
    "                                                   random_state=27)"
   ]
  },
  {
   "cell_type": "markdown",
   "id": "brilliant-pendant",
   "metadata": {},
   "source": [
    "## 1. Without the Pipeline class"
   ]
  },
  {
   "cell_type": "code",
   "execution_count": 11,
   "id": "occupied-thinking",
   "metadata": {},
   "outputs": [
    {
     "data": {
      "text/plain": [
       "RandomForestClassifier(bootstrap=True, ccp_alpha=0.0, class_weight=None,\n",
       "                       criterion='gini', max_depth=None, max_features='auto',\n",
       "                       max_leaf_nodes=None, max_samples=None,\n",
       "                       min_impurity_decrease=0.0, min_impurity_split=None,\n",
       "                       min_samples_leaf=1, min_samples_split=2,\n",
       "                       min_weight_fraction_leaf=0.0, n_estimators=100,\n",
       "                       n_jobs=None, oob_score=False, random_state=None,\n",
       "                       verbose=0, warm_start=False)"
      ]
     },
     "execution_count": 11,
     "metadata": {},
     "output_type": "execute_result"
    }
   ],
   "source": [
    "# Define transformers (will adjust/massage the data)\n",
    "imputer = SimpleImputer(strategy=\"median\") # replaces missing values\n",
    "std_scaler = StandardScaler() # scale the data\n",
    "pca = PCA()\n",
    "\n",
    "# Define the classifier (predictor) to train\n",
    "rf_clf = RandomForestClassifier()\n",
    "\n",
    "# Have the classifer (and full pipeline) learn/train/fit from the data\n",
    "X_train_filled = imputer.fit_transform(X_train)\n",
    "X_train_scaled = std_scaler.fit_transform(X_train_filled)\n",
    "X_train_reduce = pca.fit_transform(X_train_scaled)\n",
    "rf_clf.fit(X_train_reduce, y_train)"
   ]
  },
  {
   "cell_type": "code",
   "execution_count": 12,
   "id": "overhead-wagner",
   "metadata": {},
   "outputs": [],
   "source": [
    "# Predict using the trained classifier (still need to do the transformations)\n",
    "X_test_filled = imputer.transform(X_test)\n",
    "X_test_scaled = std_scaler.transform(X_test_filled)\n",
    "X_test_reduce = pca.fit_transform(X_test_scaled)\n",
    "y_pred = rf_clf.predict(X_test_reduce)"
   ]
  },
  {
   "cell_type": "markdown",
   "id": "sapphire-chamber",
   "metadata": {},
   "source": [
    "> Note that if we were to add more steps in this process, we'd have to change both the *training* and *testing* processes."
   ]
  },
  {
   "cell_type": "markdown",
   "id": "strange-vietnam",
   "metadata": {},
   "source": [
    "## 2. With the Pipeline class"
   ]
  },
  {
   "cell_type": "code",
   "execution_count": 13,
   "id": "provincial-transport",
   "metadata": {},
   "outputs": [],
   "source": [
    "from sklearn.pipeline import Pipeline\n",
    "\n",
    "pipeline = Pipeline([\n",
    "    ('imputer', SimpleImputer(strategy=\"median\")),\n",
    "    ('std_scaler', StandardScaler()),\n",
    "    ('pca', PCA()),\n",
    "    ('rf_clf', RandomForestClassifier()),\n",
    "])\n",
    "\n",
    "# Train the pipeline (transformations & predictor)\n",
    "pipeline.fit(X_train, y_train)\n",
    "\n",
    "# Predict using the pipeline (includes the transforms & trained predictor)\n",
    "predicted = pipeline.predict(X_test)"
   ]
  },
  {
   "cell_type": "markdown",
   "id": "emotional-estate",
   "metadata": {},
   "source": [
    "> If we need to change our process, we change it just *once* in the Pipeline"
   ]
  },
  {
   "cell_type": "markdown",
   "id": "automated-corporation",
   "metadata": {},
   "source": [
    "**Notice** how each parameter of each component of the pipeline can be accessed by using it’s name followed by a double underscore `__`."
   ]
  },
  {
   "cell_type": "markdown",
   "id": "european-research",
   "metadata": {},
   "source": [
    "# Parts of a Pipeline\n",
    "\n",
    "Scikit-learn has a class called [Pipeline](https://scikit-learn.org/stable/modules/generated/sklearn.pipeline.Pipeline.html) that is very logical and versatile. We can break up the steps within a full process. But it'll help if we define what the different parts are."
   ]
  },
  {
   "cell_type": "markdown",
   "id": "becoming-uzbekistan",
   "metadata": {},
   "source": [
    "## Estimator\n",
    "\n",
    "This is any object in the pipeline that can can take in data and *estimate* (or **learn**) some parameters.\n",
    "\n",
    "This means regression and classification models are estimators but so are objects that transform the original dataset ([Transformers]()) such as a standard scaling.\n",
    "\n",
    "### Usage (Methods)\n",
    "\n",
    "#### `fit`\n",
    "\n",
    "All estimators estimate/learn by calling the `fit()` method by passing in the dataset. Other parameters can be passed in to \"help\" the estimator to learn. These are called **hyperparameters**, parameters used to tweak the learning process."
   ]
  },
  {
   "cell_type": "markdown",
   "id": "color-nation",
   "metadata": {},
   "source": [
    "## Transformer\n",
    "\n",
    "Some estimators can change the original data to something new, a **transformation**. You can think of examples of these **transformers** when you do scaling, data cleaning, or expanding/reducing on a dataset.\n",
    "\n",
    "### Usage (Methods) \n",
    "\n",
    "#### `transform`\n",
    "Transformers will call the `transform()` method to apply the transformation to a dataset.\n",
    "\n",
    "#### `fit_transform`\n",
    "Remember that all estimators have a `fit()` method, so a transformer can use the `fit()` method to learn something about the given dataset. After learning with `fit()`, a transformation on the dataset can be made with the `transform()` method.\n",
    "\n",
    "An example of this would be a function that performs normalization on the dataset; the `fit()` method would learn the minimum and maximum of the dataset and the `transform()` method will scale the dataset.\n",
    "\n",
    "When you call fit and transform with the same dataset, you can simply call the `fit_transform()` method. This essentially has the same results as calling `fit()` and then `transform()` on the dataset but possibly with some optimization and efficiencies baked in."
   ]
  },
  {
   "cell_type": "markdown",
   "id": "narrative-dialogue",
   "metadata": {},
   "source": [
    "## Predictor\n",
    "\n",
    "We've been using **predictors** whenever we've been making predictions with a classifier or regressor. We would use the `fit()` method to train our predictor object and then feed in new data to make predictions (based on what it learned in the fitting stage).\n",
    "\n",
    "### Usage (Methods)\n",
    "#### `predict`\n",
    "As you probably can guess, the `predict()` method predicts results from a dataset given to it after being trained with a `fit()` method\n",
    "\n",
    "#### `score`\n",
    "Predictors also have a `score()` method that can be used to evaluate how well the predictor performed on a dataset (such as the test set)."
   ]
  },
  {
   "cell_type": "markdown",
   "id": "accepted-output",
   "metadata": {},
   "source": [
    "# Using a Pipeline\n",
    "Check out Aurélien Geron's notebook of an [end-to-end ml project](https://github.com/ageron/handson-ml2/blob/master/02_end_to_end_machine_learning_project.ipynb) on his GitHub repo based around his book [Hands-On Machine Learning with Scikit-Learn and TensorFlow: Concepts, Tools, and Techniques to Build Intelligent Systems (2nd ed)](https://www.oreilly.com/library/view/hands-on-machine-learning/9781491962282/)"
   ]
  }
 ],
 "metadata": {
  "kernelspec": {
   "display_name": "Python 3",
   "language": "python",
   "name": "python3"
  },
  "language_info": {
   "codemirror_mode": {
    "name": "ipython",
    "version": 3
   },
   "file_extension": ".py",
   "mimetype": "text/x-python",
   "name": "python",
   "nbconvert_exporter": "python",
   "pygments_lexer": "ipython3",
   "version": "3.7.7"
  }
 },
 "nbformat": 4,
 "nbformat_minor": 5
}
