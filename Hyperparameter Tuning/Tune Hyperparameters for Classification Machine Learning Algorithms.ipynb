{
 "cells": [
  {
   "cell_type": "markdown",
   "id": "experienced-cricket",
   "metadata": {},
   "source": [
    "# Tune Hyperparameters for Classification Machine Learning Algorithms\n",
    "\n",
    "[reference](https://machinelearningmastery.com/hyperparameters-for-classification-machine-learning-algorithms/)"
   ]
  },
  {
   "cell_type": "code",
   "execution_count": null,
   "id": "collaborative-poetry",
   "metadata": {},
   "outputs": [],
   "source": []
  }
 ],
 "metadata": {
  "kernelspec": {
   "display_name": "Python 3",
   "language": "python",
   "name": "python3"
  },
  "language_info": {
   "codemirror_mode": {
    "name": "ipython",
    "version": 3
   },
   "file_extension": ".py",
   "mimetype": "text/x-python",
   "name": "python",
   "nbconvert_exporter": "python",
   "pygments_lexer": "ipython3",
   "version": "3.7.7"
  }
 },
 "nbformat": 4,
 "nbformat_minor": 5
}
